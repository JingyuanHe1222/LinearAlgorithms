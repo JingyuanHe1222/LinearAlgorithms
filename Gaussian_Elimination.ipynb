{
  "nbformat": 4,
  "nbformat_minor": 0,
  "metadata": {
    "colab": {
      "provenance": []
    },
    "kernelspec": {
      "name": "python3",
      "display_name": "Python 3"
    },
    "language_info": {
      "name": "python"
    }
  },
  "cells": [
    {
      "cell_type": "code",
      "execution_count": null,
      "metadata": {
        "id": "FyseWYozTRmn"
      },
      "outputs": [],
      "source": [
        "import numpy as np"
      ]
    },
    {
      "cell_type": "markdown",
      "source": [
        "### Forward and Backward Substitution"
      ],
      "metadata": {
        "id": "qX1OFPe7UP39"
      }
    },
    {
      "cell_type": "code",
      "source": [
        "# Row-Oriented Back-Substituion to solve Upper-Tri System Ax=b\n",
        "def upperbSub(A,b):\n",
        "  n=len(A)\n",
        "  x=np.zeros(n)\n",
        "  x[n-1]=b[n-1]/A[n-1,n-1]\n",
        "  for i in range(1,n):\n",
        "    x[n-1-i]=1/A[n-1-i,n-1-i]*(b[n-1-i]-np.dot(A[n-1-i,n-i:],x[n-i:]))\n",
        "  return x"
      ],
      "metadata": {
        "id": "FUFmlEWHTu4D"
      },
      "execution_count": null,
      "outputs": []
    },
    {
      "cell_type": "code",
      "source": [
        "# Row-Oriented Forward-Substitution for Lower-Tri System Ax=b\n",
        "# Single for-loop\n",
        "def lowerfSub(A,b):\n",
        "  n=len(A) # get the dimension of A in 0-indexing\n",
        "  x=np.zeros(n)\n",
        "  x[0] = b[0]/A[0][0] # the first entry\n",
        "  for i in range(1,n):\n",
        "    print()\n",
        "    x[i]=(b[i]-np.dot(A[i,:], x))/A[i][i]\n",
        "  return x"
      ],
      "metadata": {
        "id": "H2EHCsXETu6J"
      },
      "execution_count": null,
      "outputs": []
    },
    {
      "cell_type": "markdown",
      "source": [
        "### LU Decomposition and Gaussian Elimination"
      ],
      "metadata": {
        "id": "_hylhv73ULzh"
      }
    },
    {
      "cell_type": "code",
      "source": [
        "# split matrix A into its two matrices L, U\n",
        "def split(A):\n",
        "  U=np.zeros((len(A),len(A)))\n",
        "  L=np.eye(len(A))\n",
        "  for i in range(len(A)):\n",
        "    U[i,i:]=A[i,i:]\n",
        "    L[i+1:,i]=A[i+1:,i]\n",
        "  return L, U"
      ],
      "metadata": {
        "id": "8rXz0F07T7nz"
      },
      "execution_count": null,
      "outputs": []
    },
    {
      "cell_type": "markdown",
      "source": [
        "#####  Inner Product Method"
      ],
      "metadata": {
        "id": "RI3D52D4U--f"
      }
    },
    {
      "cell_type": "code",
      "source": [
        "#Overwrite the input matrix A into its LU Decomposition form\n",
        "def innerGEWP(A):\n",
        "  #first row remained unchanged \n",
        "  A[1:,0]=A[1:,0]/A[0,0] # first col is uniquely determined\n",
        "  for k in range(1,len(A)): #for rows\n",
        "    #update U\n",
        "    A[k,k:] = A[k,k:] - A[k,:k]@A[:k,k:]\n",
        "    #update L\n",
        "    A[(k+1):,k] = (A[(k+1):,k]-A[(k+1):,:k]@A[:k,k])/A[k,k]\n",
        "  return A "
      ],
      "metadata": {
        "id": "5Rc8Z_ZxTu8Z"
      },
      "execution_count": null,
      "outputs": []
    },
    {
      "cell_type": "markdown",
      "source": [
        "##### Outer Product Method"
      ],
      "metadata": {
        "id": "hv_6TEeLU5Nw"
      }
    },
    {
      "cell_type": "code",
      "source": [
        "#Overwrite the input matrix A into its LU Decomposition \n",
        "def outerGEWP(A):\n",
        "  for i in range(len(A)):\n",
        "    A[(i+1):,i]=A[(i+1):,i]/A[i,i]\n",
        "    A[(i+1):,(i+1):]-=np.outer(A[(i+1):,i], A[i,(i+1):])\n",
        "  return A"
      ],
      "metadata": {
        "id": "4LmQjt_rUkHw"
      },
      "execution_count": null,
      "outputs": []
    },
    {
      "cell_type": "markdown",
      "source": [
        "### Testing"
      ],
      "metadata": {
        "id": "Y62lsBBwUamZ"
      }
    },
    {
      "cell_type": "code",
      "source": [
        "# Row-Oriented Forward-Substitution - Simple Test \n",
        "A=[[1,0,0,0],[2,3,0,0],[1,-1,9,0],[2,0,3,1]]\n",
        "A=np.array(A) # using np array for A instead of nested list so that multi-dimensional slicing is enabled\n",
        "b=np.random.rand(4)\n",
        "print(b)\n",
        "x=lowerfSub(A,b)\n",
        "np.allclose(A@x,b)"
      ],
      "metadata": {
        "colab": {
          "base_uri": "https://localhost:8080/"
        },
        "id": "J0QoIHRgUK6_",
        "outputId": "660de7f6-cad1-4bd1-e499-6a9d074708a0"
      },
      "execution_count": null,
      "outputs": [
        {
          "output_type": "stream",
          "name": "stdout",
          "text": [
            "[0.88181371 0.25942417 0.19745854 0.52083501]\n",
            "\n",
            "\n",
            "\n"
          ]
        },
        {
          "output_type": "execute_result",
          "data": {
            "text/plain": [
              "True"
            ]
          },
          "metadata": {},
          "execution_count": 8
        }
      ]
    },
    {
      "cell_type": "code",
      "source": [
        "# LU Decomposition by Inner Product\n",
        "for i in range(10):\n",
        "  A=np.random.rand(20,20)\n",
        "  B=np.copy(A) #provide a copy for testing purposes\n",
        "  L,U=split(innerGEWP(A))\n",
        "  print(np.allclose(L@U,B))"
      ],
      "metadata": {
        "colab": {
          "base_uri": "https://localhost:8080/"
        },
        "id": "6imHM4TXT7lb",
        "outputId": "abcb1161-ddbe-475a-9ee2-506c3a455c5a"
      },
      "execution_count": null,
      "outputs": [
        {
          "output_type": "stream",
          "name": "stdout",
          "text": [
            "True\n",
            "True\n",
            "True\n",
            "True\n",
            "True\n",
            "True\n",
            "True\n",
            "True\n",
            "True\n",
            "True\n"
          ]
        }
      ]
    },
    {
      "cell_type": "code",
      "source": [
        "# LU Decomposition by Outer Product\n",
        "for i in range(10):\n",
        "  A=np.random.rand(20,20)\n",
        "  B=np.copy(A) #provide a copy for testing purposes\n",
        "  L,U=split(outerGEWP(A)) #use the split() function above in Problem 4\n",
        "  print(np.allclose(L@U,B))"
      ],
      "metadata": {
        "colab": {
          "base_uri": "https://localhost:8080/"
        },
        "id": "q91BWEkwT7jS",
        "outputId": "f93f7a1f-9b47-44b1-b436-2daa12c77584"
      },
      "execution_count": null,
      "outputs": [
        {
          "output_type": "stream",
          "name": "stdout",
          "text": [
            "True\n",
            "True\n",
            "True\n",
            "True\n",
            "True\n",
            "True\n",
            "True\n",
            "True\n",
            "True\n",
            "True\n"
          ]
        }
      ]
    },
    {
      "cell_type": "markdown",
      "source": [
        "### Time Complexity for the Gaussian Elimination Algorithms"
      ],
      "metadata": {
        "id": "oyqh6Ta7Xwao"
      }
    },
    {
      "cell_type": "code",
      "source": [
        "# Three Loop Gaussian\n",
        "def gaussianELM(B):\n",
        "  A=np.copy(B)\n",
        "  n=len(A)\n",
        "  for i in range(n-1):\n",
        "    for j in range(i+1,n):\n",
        "      A[j,i]=A[j,i]/A[i,i]\n",
        "      for k in range(i+1,n):\n",
        "        A[j,k]-= A[j,i]*A[i,k]\n",
        "  return A"
      ],
      "metadata": {
        "id": "M-V8UrnrVG2O"
      },
      "execution_count": null,
      "outputs": []
    },
    {
      "cell_type": "code",
      "source": [
        "# compare time complexity between gaussianELM and innerGEWP\n",
        "from time import process_time as pt\n",
        "for i in range(10):\n",
        "  A=np.random.rand(300,300)\n",
        "  start=pt()\n",
        "  gaussianELM(A)\n",
        "  t=pt()-start\n",
        "  start=pt()\n",
        "  innerGEWP(A)\n",
        "  print(t/(pt()-start))\n",
        "  print(\"\\n\")"
      ],
      "metadata": {
        "colab": {
          "base_uri": "https://localhost:8080/"
        },
        "id": "-YaRlF4BX2qE",
        "outputId": "432dc4b3-9bf3-4b1b-c7cf-fde3e0f0c0db"
      },
      "execution_count": null,
      "outputs": [
        {
          "output_type": "stream",
          "name": "stdout",
          "text": [
            "358.1251471457538\n",
            "\n",
            "\n",
            "373.95466009861167\n",
            "\n",
            "\n",
            "276.91844086965864\n",
            "\n",
            "\n",
            "375.3372905162944\n",
            "\n",
            "\n",
            "309.5747543347481\n",
            "\n",
            "\n",
            "314.2383210529535\n",
            "\n",
            "\n",
            "397.01797111129514\n",
            "\n",
            "\n",
            "377.49523523355094\n",
            "\n",
            "\n",
            "382.1075293599371\n",
            "\n",
            "\n",
            "392.0202829700594\n",
            "\n",
            "\n"
          ]
        }
      ]
    },
    {
      "cell_type": "code",
      "source": [
        "# compare time complexity between gaussianELM and outerGEWP\n",
        "from time import process_time as pt\n",
        "for i in range(10):\n",
        "  A=np.random.rand(300,300)\n",
        "  start=pt()\n",
        "  gaussianELM(A)\n",
        "  t=pt()-start\n",
        "  start=pt()\n",
        "  outerGEWP(A)\n",
        "  print(t/(pt()-start))\n",
        "  print(\"\\n\")"
      ],
      "metadata": {
        "colab": {
          "base_uri": "https://localhost:8080/"
        },
        "id": "tS2tOeOlX2f7",
        "outputId": "081e91a0-d8aa-42ac-e40a-f323f1ffdaf6"
      },
      "execution_count": null,
      "outputs": [
        {
          "output_type": "stream",
          "name": "stdout",
          "text": [
            "155.8396589361202\n",
            "\n",
            "\n",
            "175.21111404454942\n",
            "\n",
            "\n",
            "178.3748306370136\n",
            "\n",
            "\n",
            "177.5479983710326\n",
            "\n",
            "\n",
            "156.65961852766728\n",
            "\n",
            "\n",
            "174.25278088841108\n",
            "\n",
            "\n",
            "176.87045389723858\n",
            "\n",
            "\n",
            "168.22600434733346\n",
            "\n",
            "\n",
            "172.61665509692173\n",
            "\n",
            "\n",
            "161.7120182317407\n",
            "\n",
            "\n"
          ]
        }
      ]
    },
    {
      "cell_type": "code",
      "source": [
        "from time import process_time as pt\n",
        "for i in range(10):\n",
        "  A=np.random.rand(1000,1000)\n",
        "  start=pt()\n",
        "  innerGEWP(A)\n",
        "  t=pt()-start\n",
        "  start=pt()\n",
        "  outerGEWP(A)\n",
        "  print(t/(pt()-start))\n",
        "  print(\"\\n\")"
      ],
      "metadata": {
        "id": "hDrqhku6YCqi"
      },
      "execution_count": null,
      "outputs": []
    },
    {
      "cell_type": "markdown",
      "source": [
        "### Conclusion on Gaussian Elimination\n",
        "\n",
        "From the above time comparisons, it seems like innerGEWP is the fastest algorithm, whereas gaussianEML is the slowest. \n",
        "As we used operations like matrix multiplication, which are computed in parallel by Numpy, we save more time in innerGEWP and outerGEWP. In contrast, the three nested for-loop in gaussianEML means that each steps(operation) is computed individually, which implies a O(n^3) time complexity. \n",
        "The reason why I think innerGEWP is doing better than outerGEWP is because of the np.outer() function. Given a m*1 vector u and a n*1 vector v, their outer product is like the matrix multiplication of u and the transpose of v. "
      ],
      "metadata": {
        "id": "TYtavrJgVWRf"
      }
    }
  ]
}