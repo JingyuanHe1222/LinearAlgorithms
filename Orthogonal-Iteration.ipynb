{
  "nbformat": 4,
  "nbformat_minor": 0,
  "metadata": {
    "colab": {
      "provenance": []
    },
    "kernelspec": {
      "name": "python3",
      "display_name": "Python 3"
    },
    "language_info": {
      "name": "python"
    }
  },
  "cells": [
    {
      "cell_type": "markdown",
      "source": [
        "Problem 3"
      ],
      "metadata": {
        "id": "5UKpDgjGBA2f"
      }
    },
    {
      "cell_type": "code",
      "source": [
        "import numpy as np"
      ],
      "metadata": {
        "id": "VG2wBzoNVQJ2"
      },
      "execution_count": null,
      "outputs": []
    },
    {
      "cell_type": "markdown",
      "source": [
        "### Utility"
      ],
      "metadata": {
        "id": "jFeA-FFdOyGG"
      }
    },
    {
      "cell_type": "code",
      "source": [
        "def sgn(x):\n",
        "  if x==0:\n",
        "    return 1\n",
        "  else:\n",
        "    return np.sign(x)"
      ],
      "metadata": {
        "id": "0D3_PNSEVH9v"
      },
      "execution_count": null,
      "outputs": []
    },
    {
      "cell_type": "code",
      "source": [
        "def reflectMult(A, w):\n",
        "  u = w/np.linalg.norm(w) # normalized vector\n",
        "  Q = np.eye(len(w), dtype=float) - 2*np.outer(u, u)\n",
        "  A[:,:] = Q@A"
      ],
      "metadata": {
        "id": "SFqiPrYwVO7_"
      },
      "execution_count": null,
      "outputs": []
    },
    {
      "cell_type": "code",
      "source": [
        "def assembleQ(q):\n",
        "  m,n=q.shape\n",
        "  Q=np.eye(m)\n",
        "  for i in range(n):\n",
        "    reflectMult(Q,q[:,n-1-i])\n",
        "  return Q"
      ],
      "metadata": {
        "id": "ZCWql31RVJLJ"
      },
      "execution_count": null,
      "outputs": []
    },
    {
      "cell_type": "code",
      "source": [
        "def myQR(A):\n",
        "    m,n=A.shape\n",
        "    R=np.copy(A)\n",
        "    q=np.zeros((m,n))\n",
        "    for i in range(n):\n",
        "        tau=np.linalg.norm(R[i:,i])\n",
        "        q[i:,i]=R[i:,i]\n",
        "        q[i,i]+=sgn(R[i,i])*tau\n",
        "        reflectMult(R[i:,i:],q[i:,i])\n",
        "    return q, R[:n,:n]"
      ],
      "metadata": {
        "id": "tCEpmTg85Alw"
      },
      "execution_count": null,
      "outputs": []
    },
    {
      "cell_type": "markdown",
      "source": [
        "### Orthogonal Iteration to Calculate EigenValues"
      ],
      "metadata": {
        "id": "cZmkbjL0O3uT"
      }
    },
    {
      "cell_type": "code",
      "execution_count": null,
      "metadata": {
        "id": "-yG9HBSeUBN4"
      },
      "outputs": [],
      "source": [
        "def myOrth(A):\n",
        "  n=len(A)\n",
        "  Y=np.random.rand(n,n)\n",
        "  i = 0\n",
        "  while True:\n",
        "    q, R=myQR(Y)\n",
        "    Q=assembleQ(q)[:, :n]\n",
        "    Y=A@Q # cols of Y converages \n",
        "    if np.allclose(np.zeros((n,n)),np.tril(np.transpose(Q)@A@Q,-1))==True:\n",
        "      break\n",
        "    i+=1\n",
        "  return np.diag(np.transpose(Q)@A@Q) # n-dimensional vector of all eigenvalues"
      ]
    },
    {
      "cell_type": "markdown",
      "source": [
        "### Testing"
      ],
      "metadata": {
        "id": "78UigAaOO1My"
      }
    },
    {
      "cell_type": "code",
      "source": [
        "# Personal Little Check \n",
        "P=np.random.rand(4,4)\n",
        "d=np.array([345, 2, 3, 4])\n",
        "A=P@np.diag(d)@np.linalg.inv(P)\n",
        "eig=myOrth(A)\n",
        "d[::-1].sort()\n",
        "print(eig)\n",
        "print(d)\n",
        "np.allclose(eig,d)"
      ],
      "metadata": {
        "colab": {
          "base_uri": "https://localhost:8080/"
        },
        "id": "tVQ6umlI0376",
        "outputId": "fabefcc1-63a6-452e-e9b7-8f0fd1b27f55"
      },
      "execution_count": null,
      "outputs": [
        {
          "output_type": "stream",
          "name": "stdout",
          "text": [
            "[345.           3.99999999   3.00000001   2.        ]\n",
            "[345   4   3   2]\n"
          ]
        },
        {
          "output_type": "execute_result",
          "data": {
            "text/plain": [
              "True"
            ]
          },
          "metadata": {},
          "execution_count": 7
        }
      ]
    },
    {
      "cell_type": "code",
      "source": [
        "for i in range(10):\n",
        "  P=np.random.rand(10,10)\n",
        "  d=np.random.rand(10)\n",
        "  d[::-1].sort()\n",
        "  D=np.diag(d)\n",
        "  A=P@D@np.linalg.inv(P)\n",
        "  eig=myOrth(A)\n",
        "  print(np.allclose(eig,d))"
      ],
      "metadata": {
        "colab": {
          "base_uri": "https://localhost:8080/"
        },
        "id": "x1ozzJXk8LQR",
        "outputId": "6418638b-0a7f-4f61-d90f-2e8e837aaeb5"
      },
      "execution_count": null,
      "outputs": [
        {
          "output_type": "stream",
          "name": "stdout",
          "text": [
            "True\n",
            "True\n",
            "True\n",
            "True\n",
            "True\n",
            "True\n",
            "True\n",
            "True\n",
            "True\n",
            "True\n"
          ]
        }
      ]
    }
  ]
}