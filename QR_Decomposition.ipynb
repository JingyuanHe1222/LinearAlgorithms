{
  "nbformat": 4,
  "nbformat_minor": 0,
  "metadata": {
    "colab": {
      "provenance": []
    },
    "kernelspec": {
      "name": "python3",
      "display_name": "Python 3"
    },
    "language_info": {
      "name": "python"
    }
  },
  "cells": [
    {
      "cell_type": "code",
      "execution_count": 2,
      "metadata": {
        "id": "3DAMFyULNfcy"
      },
      "outputs": [],
      "source": [
        "import numpy as np"
      ]
    },
    {
      "cell_type": "markdown",
      "source": [
        "### Utility"
      ],
      "metadata": {
        "id": "OoYD7SJvNzaQ"
      }
    },
    {
      "cell_type": "code",
      "source": [
        "def assembleQ(q):\n",
        "  m,n=q.shape\n",
        "  Q=np.eye(m)\n",
        "  for i in range(n):\n",
        "    reflectMult(Q,q[:,n-1-i])\n",
        "  return Q\n"
      ],
      "metadata": {
        "id": "IEpck-UGNzAa"
      },
      "execution_count": 3,
      "outputs": []
    },
    {
      "cell_type": "code",
      "source": [
        "def sgn(x):\n",
        "  if x==0:\n",
        "    return 1\n",
        "  else:\n",
        "    return np.sign(x)"
      ],
      "metadata": {
        "id": "14jEsH9eN4ux"
      },
      "execution_count": 4,
      "outputs": []
    },
    {
      "cell_type": "markdown",
      "source": [
        "### Householder Reflection"
      ],
      "metadata": {
        "id": "6zdqXCKBNm6u"
      }
    },
    {
      "cell_type": "code",
      "source": [
        "def reflectMult(A, w):\n",
        "  u = w/np.linalg.norm(w) # normalized vector\n",
        "  Q = np.eye(len(w), dtype=float) - 2*np.outer(u, u)\n",
        "  A[:,:] = Q@A"
      ],
      "metadata": {
        "id": "0VouuYt5NlFp"
      },
      "execution_count": 6,
      "outputs": []
    },
    {
      "cell_type": "markdown",
      "source": [
        "### QR Algorithm by HouseHolder Reflection"
      ],
      "metadata": {
        "id": "1pStPHwyNuJs"
      }
    },
    {
      "cell_type": "code",
      "source": [
        "def myQR(A):\n",
        "    nRows, nCols = A.shape\n",
        "    R = np.copy(A)\n",
        "    Q = np.eye(nRows)\n",
        "    q = np.zeros((nRows, nCols))\n",
        "    for i in range(nCols - (nRows ==nCols)):\n",
        "        Qi = np.eye(nRows) # householder transform matrix at step i\n",
        "        v = R[i:, i]\n",
        "        # construct e\n",
        "        e = np.zeros(nRows-i)\n",
        "        e[0] = 1\n",
        "        # constuct the reflection vecotr w (unnormalized)\n",
        "        w = -sgn(v[0])*e*np.linalg.norm(v) - v\n",
        "        q[i:, i] = w\n",
        "        # construct the reflection matrix\n",
        "        Qi[i:, i:] = np.eye(nRows-i) - 2*np.outer(w, w)/np.dot(w, w)\n",
        "        # apply changes onto the input matrix to get R = Q...A\n",
        "        R = Qi@R # update the transformed matrix\n",
        "    return q, R[:nCols, :nCols]"
      ],
      "metadata": {
        "id": "T7cy3y5RNlBL"
      },
      "execution_count": 7,
      "outputs": []
    },
    {
      "cell_type": "markdown",
      "source": [
        "### Testing"
      ],
      "metadata": {
        "id": "eJaBfFnyN-2t"
      }
    },
    {
      "cell_type": "code",
      "source": [
        "# QR Algorithm\n",
        "for i in range(10):\n",
        "  A=np.random.rand(100,50)\n",
        "  q,R=myQR(A)\n",
        "  Q=assembleQ(q)\n",
        "  print(np.allclose(Q[:,:50]@R,A))"
      ],
      "metadata": {
        "colab": {
          "base_uri": "https://localhost:8080/"
        },
        "id": "IttqV8DiOAcf",
        "outputId": "b08f269a-6a68-4e3c-d8d5-b7cb5a04a2c2"
      },
      "execution_count": 8,
      "outputs": [
        {
          "output_type": "stream",
          "name": "stdout",
          "text": [
            "True\n",
            "True\n",
            "True\n",
            "True\n",
            "True\n",
            "True\n",
            "True\n",
            "True\n",
            "True\n",
            "True\n"
          ]
        }
      ]
    }
  ]
}