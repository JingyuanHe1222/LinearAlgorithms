{
  "nbformat": 4,
  "nbformat_minor": 0,
  "metadata": {
    "colab": {
      "provenance": []
    },
    "kernelspec": {
      "name": "python3",
      "display_name": "Python 3"
    },
    "language_info": {
      "name": "python"
    }
  },
  "cells": [
    {
      "cell_type": "markdown",
      "source": [
        "### Utility"
      ],
      "metadata": {
        "id": "Zq5ASGB4Ph_h"
      }
    },
    {
      "cell_type": "code",
      "execution_count": 1,
      "metadata": {
        "id": "5Yb5xM-qPcET"
      },
      "outputs": [],
      "source": [
        "import numpy as np"
      ]
    },
    {
      "cell_type": "code",
      "source": [
        "def sgn(x):\n",
        "  if x==0:\n",
        "    return 1\n",
        "  else:\n",
        "    return np.sign(x)"
      ],
      "metadata": {
        "id": "_g87LmVAPjty"
      },
      "execution_count": 2,
      "outputs": []
    },
    {
      "cell_type": "code",
      "source": [],
      "metadata": {
        "id": "3bRl0ye_PkTN"
      },
      "execution_count": null,
      "outputs": []
    },
    {
      "cell_type": "markdown",
      "source": [
        "### Hessenberg Reduction"
      ],
      "metadata": {
        "id": "cMMd6euGPmMj"
      }
    },
    {
      "cell_type": "code",
      "source": [
        "def myHess(A):\n",
        "    m,n=A.shape\n",
        "    R=np.copy(A)\n",
        "    for i in range(n-2):\n",
        "      # Qi = np.eye(n) # householder transform matrix at step i\n",
        "      v = R[i+1:, i]\n",
        "      # construct e\n",
        "      e = np.zeros(n-i-1)\n",
        "      e[0] = 1\n",
        "      # constuct the reflection vector x\n",
        "      w = -sgn(v[0])*e*np.linalg.norm(v) + v\n",
        "      x = np.zeros(n)\n",
        "      x[i+1:] = w/np.linalg.norm(w)\n",
        "      # apply changes onto the input matrix to get R = Q...A...Q\n",
        "      R-=2*np.outer(x, x@R)\n",
        "      R-=2*np.outer(R@x, x)\n",
        "    return R"
      ],
      "metadata": {
        "id": "S9Lsvw12PkQS"
      },
      "execution_count": 3,
      "outputs": []
    },
    {
      "cell_type": "markdown",
      "source": [
        "### QR-Francis Algorithm"
      ],
      "metadata": {
        "id": "nNoNpcDeP6nN"
      }
    },
    {
      "cell_type": "code",
      "source": [
        "def myEigen(H):\n",
        "\n",
        "  B = np.copy(H)\n",
        "  m, n = B.shape\n",
        "  if n == 1:\n",
        "    return B[0, 0]\n",
        "  # matrix that holds the eigenvalues of the block\n",
        "  eig = np.zeros(n)\n",
        "  # deflation index set to 0 intially\n",
        "  d = 0\n",
        "\n",
        "  while True: \n",
        "\n",
        "    # check for deflation\n",
        "    for i in range(1,n):\n",
        "      if np.abs(B[i, i-1]) <= 10e-14:\n",
        "        d = i # use row index\n",
        "        break\n",
        "    # break from the main while loop if deflation point is met\n",
        "    if d != 0:\n",
        "      break\n",
        "\n",
        "    # Rayleigh's Shift on Matrix \n",
        "    shifted = B[0, 0]-B[n-1, n-1]\n",
        "    a = np.sqrt(shifted**2 + (B[1, 0])**2) \n",
        "    R = np.array([[shifted/a, B[1, 0]/a], [-B[1, 0]/a, shifted/a]]) \n",
        "    B[:2, :] = R@B[:2, :]\n",
        "    B[:, :2] = B[:, :2]@np.transpose(R)\n",
        "\n",
        "    # Chasing the Bulge\n",
        "    for j in range(0,n-2):\n",
        "      a = np.linalg.norm(B[j+1:j+3, j]) # j = 0, B[1:3, 0] \n",
        "      R = np.array([[B[j+1, j]/a, B[j+2, j]/a], [-B[j+2, j]/a, B[j+1, j]/a]]) \n",
        "      B[j+1:j+3, :] = R@B[j+1:j+3, :]\n",
        "      B[:, j+1:j+3] = B[:, j+1:j+3]@np.transpose(R)\n",
        "\n",
        "  # Out of Whileloop: return eig\n",
        "  eig[:d] = myEigen(B[:d, :d])\n",
        "  eig[d:] = myEigen(B[d:, d:])\n",
        "  \n",
        "  return eig"
      ],
      "metadata": {
        "id": "aKwFK_XyPkMd"
      },
      "execution_count": 6,
      "outputs": []
    },
    {
      "cell_type": "markdown",
      "source": [
        "### Testing"
      ],
      "metadata": {
        "id": "2EdMveeDPryA"
      }
    },
    {
      "cell_type": "code",
      "source": [
        "# Hessenberg Reduction\n",
        "for i in range(10):\n",
        "  P=np.random.rand(50,50)\n",
        "  d=np.random.rand(50)\n",
        "  A=np.linalg.inv(P)@np.diag(d)@P\n",
        "  d.sort()\n",
        "  H=myHess(A)\n",
        "  eigen=np.linalg.eigvals(H)\n",
        "  eigen.sort()\n",
        "  print(np.allclose(eigen,d))\n",
        "  print(np.allclose(np.zeros((49,49)),np.tril(H[1:,:49],-1)))"
      ],
      "metadata": {
        "colab": {
          "base_uri": "https://localhost:8080/"
        },
        "id": "Egxflp6_PstZ",
        "outputId": "d2899359-17a4-4c9c-b23b-ee4ee5493462"
      },
      "execution_count": 4,
      "outputs": [
        {
          "output_type": "stream",
          "name": "stdout",
          "text": [
            "True\n",
            "True\n",
            "True\n",
            "True\n",
            "True\n",
            "True\n",
            "True\n",
            "True\n",
            "True\n",
            "True\n",
            "True\n",
            "True\n",
            "True\n",
            "True\n",
            "True\n",
            "True\n",
            "True\n",
            "True\n",
            "True\n",
            "True\n"
          ]
        }
      ]
    },
    {
      "cell_type": "code",
      "source": [
        " # Hessenberg Reduction at O(n^3) Time Complexity\n",
        " from time import process_time as pt\n",
        "n=20\n",
        "k=50\n",
        "times=np.zeros(n)\n",
        "x=np.linspace(k,k*n,num=n)\n",
        "for i in range(n):\n",
        "  A=np.random.rand(k+i*k,k+i*k)\n",
        "  start=pt()\n",
        "  myHess(A)\n",
        "  times[i]=(pt()-start)/(k+i*k)**3\n",
        "from matplotlib import pyplot as plt\n",
        "plt.plot(x,times,\"bo\")"
      ],
      "metadata": {
        "colab": {
          "base_uri": "https://localhost:8080/",
          "height": 293
        },
        "id": "JkG-_xLnPubH",
        "outputId": "464e70bd-6a78-49c2-c15b-bf0466afadba"
      },
      "execution_count": 5,
      "outputs": [
        {
          "output_type": "execute_result",
          "data": {
            "text/plain": [
              "[<matplotlib.lines.Line2D at 0x7fdb791cbd60>]"
            ]
          },
          "metadata": {},
          "execution_count": 5
        },
        {
          "output_type": "display_data",
          "data": {
            "text/plain": [
              "<Figure size 432x288 with 1 Axes>"
            ],
            "image/png": "[encoded data removed]"
          },
          "metadata": {
            "needs_background": "light"
          }
        }
      ]
    },
    {
      "cell_type": "code",
      "source": [
        "# Francis Algorithm\n",
        "for i in range(10): \n",
        "  P=np.random.rand(10,10) #50\n",
        "  d=np.random.rand(10)\n",
        "  B=np.linalg.inv(P)@np.diag(d)@P\n",
        "  d[::-1].sort()\n",
        "  eigen=myEigen(myHess(B))\n",
        "  eigen[::-1].sort()\n",
        "  print(np.max(np.abs(d-eigen)))"
      ],
      "metadata": {
        "colab": {
          "base_uri": "https://localhost:8080/"
        },
        "id": "3Za82KfqP1ba",
        "outputId": "5da2f60b-0e28-4f99-bd34-f88750c25010"
      },
      "execution_count": 7,
      "outputs": [
        {
          "output_type": "stream",
          "name": "stdout",
          "text": [
            "3.0309088572266774e-14\n",
            "1.1157741397482823e-14\n",
            "2.020605904817785e-14\n",
            "7.882583474838611e-15\n",
            "4.6629367034256575e-15\n",
            "8.604228440844963e-14\n",
            "1.3822276656583199e-14\n",
            "4.3298697960381105e-14\n",
            "4.3770542745846797e-14\n",
            "1.432187701766452e-14\n"
          ]
        }
      ]
    },
    {
      "cell_type": "code",
      "source": [
        "# Francs Algorithm Time Complexity\n",
        "from time import process_time as pt\n",
        "n=30\n",
        "k=10\n",
        "k0=100\n",
        "times=np.zeros(n)\n",
        "x=np.linspace(k0+k,k0+k*n,num=n)\n",
        "for i in range(n):\n",
        "  P=np.random.rand(k0+k+i*k,k0+k+i*k)\n",
        "  d=np.random.rand(k0+k+i*k)\n",
        "  B=np.linalg.inv(P)@np.diag(d)@P\n",
        "  start=pt()\n",
        "  myEigen(myHess(B))\n",
        "  times[i]=(pt()-start)/(k0+k+i*k)**3\n",
        "from matplotlib import pyplot as plt\n",
        "plt.plot(x,times,\"bo\")"
      ],
      "metadata": {
        "colab": {
          "base_uri": "https://localhost:8080/",
          "height": 293
        },
        "id": "CvgQlfmTQLpH",
        "outputId": "948e0b38-d8a0-4685-87ec-76699e364d11"
      },
      "execution_count": 8,
      "outputs": [
        {
          "output_type": "execute_result",
          "data": {
            "text/plain": [
              "[<matplotlib.lines.Line2D at 0x7fdb78c89130>]"
            ]
          },
          "metadata": {},
          "execution_count": 8
        },
        {
          "output_type": "display_data",
          "data": {
            "text/plain": [
              "<Figure size 432x288 with 1 Axes>"
            ],
            "image/png": "[encoded data removed]"
          },
          "metadata": {
            "needs_background": "light"
          }
        }
      ]
    },
    {
      "cell_type": "markdown",
      "source": [
        "### Notice\n",
        "Francis Algorithm is more stable and faster than orthogonal iteration. "
      ],
      "metadata": {
        "id": "Q0s2OaiuQnAU"
      }
    }
  ]
}